{
 "cells": [
  {
   "cell_type": "code",
   "execution_count": 33,
   "metadata": {},
   "outputs": [],
   "source": [
    "import safety_gymnasium"
   ]
  },
  {
   "cell_type": "code",
   "execution_count": null,
   "metadata": {},
   "outputs": [],
   "source": [
    "def simulation(env, iter_nr = 1000, reward_free = False):\n",
    "    obs, info = env.reset()\n",
    "    # Set seeds\n",
    "    # obs, _ = env.reset(seed=0)\n",
    "    terminated, truncated = False, False\n",
    "    ep_ret, ep_cost = 0, 0\n",
    "    \n",
    "    for _ in range(iter_nr):\n",
    "        assert env.observation_space.contains(obs)\n",
    "        act = env.action_space.sample()\n",
    "        assert env.action_space.contains(act)\n",
    "        obs, reward, cost, terminated, truncated, info = env.step(act)\n",
    "        # Only add the reward during deployment i.e. not reward-free\n",
    "        if not reward_free:\n",
    "            ep_ret += reward\n",
    "        ep_cost += cost\n",
    "        if terminated or truncated:\n",
    "            observation, info = env.reset()\n",
    "\n",
    "    env.close()\n",
    "    return ep_ret, ep_cost"
   ]
  },
  {
   "cell_type": "code",
   "execution_count": null,
   "metadata": {},
   "outputs": [
    {
     "name": "stderr",
     "output_type": "stream",
     "text": [
      "/home/kono_maruko_da/miniconda3/envs/safe-slac/lib/python3.8/site-packages/glfw/__init__.py:917: GLFWError: (65537) b'The GLFW library is not initialized'\n",
      "  warnings.warn(message, GLFWError)\n"
     ]
    }
   ],
   "source": [
    "environment = safety_gymnasium.make('SafetyCarGoal1-v0', render_mode='human')\n",
    "ret, cost = simulation(environment, reward_free = True)\n",
    "ret, cost"
   ]
  },
  {
   "cell_type": "code",
   "execution_count": null,
   "metadata": {},
   "outputs": [],
   "source": []
  }
 ],
 "metadata": {
  "kernelspec": {
   "display_name": "safe-slac",
   "language": "python",
   "name": "python3"
  },
  "language_info": {
   "codemirror_mode": {
    "name": "ipython",
    "version": 3
   },
   "file_extension": ".py",
   "mimetype": "text/x-python",
   "name": "python",
   "nbconvert_exporter": "python",
   "pygments_lexer": "ipython3",
   "version": "3.8.20"
  }
 },
 "nbformat": 4,
 "nbformat_minor": 2
}
