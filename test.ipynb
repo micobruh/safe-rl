{
 "cells": [
  {
   "cell_type": "code",
   "execution_count": 39,
   "metadata": {},
   "outputs": [],
   "source": [
    "import safety_gymnasium\n",
    "from tqdm import tqdm, trange\n",
    "import hashlib"
   ]
  },
  {
   "cell_type": "code",
   "execution_count": 40,
   "metadata": {},
   "outputs": [],
   "source": [
    "def simulation(env, iter_nr = 1000, reward_free = False):\n",
    "    obs, info = env.reset()\n",
    "    # Set seeds\n",
    "    # obs, _ = env.reset(seed=0)\n",
    "    terminated, truncated = False, False\n",
    "    ep_ret, ep_cost = 0, 0\n",
    "    \n",
    "    for _ in trange(iter_nr):\n",
    "        assert env.observation_space.contains(obs)\n",
    "        act = env.action_space.sample()\n",
    "        assert env.action_space.contains(act)\n",
    "        obs, reward, cost, terminated, truncated, info = env.step(act)\n",
    "        # Only add the reward during deployment i.e. not reward-free\n",
    "        if not reward_free:\n",
    "            ep_ret += reward\n",
    "        ep_cost += cost\n",
    "        if terminated or truncated:\n",
    "            observation, info = env.reset()\n",
    "\n",
    "    env.close()\n",
    "    return ep_ret, ep_cost"
   ]
  },
  {
   "cell_type": "code",
   "execution_count": 53,
   "metadata": {},
   "outputs": [],
   "source": [
    "env = safety_gymnasium.make('SafetyPointGoal2-v0', render_mode='human', max_episode_steps = 1000)\n",
    "# environment.reset()\n",
    "# ret, cost = simulation(environment, reward_free = True)\n",
    "# ret, cost"
   ]
  },
  {
   "cell_type": "code",
   "execution_count": 55,
   "metadata": {},
   "outputs": [
    {
     "name": "stdout",
     "output_type": "stream",
     "text": [
      "__abstractmethods__\n",
      "__class__\n",
      "__delattr__\n",
      "__dict__\n",
      "__dir__\n",
      "__doc__\n",
      "__eq__\n",
      "__format__\n",
      "__ge__\n",
      "__getattribute__\n",
      "__gt__\n",
      "__hash__\n",
      "__init__\n",
      "__init_subclass__\n",
      "__le__\n",
      "__lt__\n",
      "__module__\n",
      "__ne__\n",
      "__new__\n",
      "__reduce__\n",
      "__reduce_ex__\n",
      "__repr__\n",
      "__setattr__\n",
      "__sizeof__\n",
      "__slots__\n",
      "__str__\n",
      "__subclasshook__\n",
      "__weakref__\n",
      "_abc_impl\n",
      "_add_free_geoms\n",
      "_add_geoms\n",
      "_add_mocaps\n",
      "_build\n",
      "_build_agent\n",
      "_build_placements_dict\n",
      "_build_static_geoms_config\n",
      "_build_world_config\n",
      "_ego_xy\n",
      "_free_geoms\n",
      "_geoms\n",
      "_get_viewer\n",
      "_is_load_static_geoms\n",
      "_mocaps\n",
      "_obs_compass\n",
      "_obs_lidar\n",
      "_obs_lidar_natural\n",
      "_obs_lidar_pseudo\n",
      "_obs_vision\n",
      "_obstacles\n",
      "_parse\n",
      "_placements_dict_from_object\n",
      "_render_area\n",
      "_render_compass\n",
      "_render_lidar\n",
      "_render_sphere\n",
      "_set_goal\n",
      "_update_viewer\n",
      "_viewers\n",
      "action_noise\n",
      "action_space\n",
      "agent\n",
      "agent_name\n",
      "build_goal_position\n",
      "build_observation_space\n",
      "build_staged_goal_position\n",
      "calculate_cost\n",
      "calculate_reward\n",
      "compass_conf\n",
      "cost_conf\n",
      "data\n",
      "debug\n",
      "dist_goal\n",
      "dist_staged_goal\n",
      "floor_conf\n",
      "goal\n",
      "goal_achieved\n",
      "hazards\n",
      "last_dist_goal\n",
      "lidar_conf\n",
      "mechanism_conf\n",
      "model\n",
      "num_steps\n",
      "obs\n",
      "obs_info\n",
      "observation_flatten\n",
      "observation_space\n",
      "observe_vision\n",
      "placements_conf\n",
      "random_generator\n",
      "render\n",
      "render_conf\n",
      "reset\n",
      "reward_conf\n",
      "sim_conf\n",
      "simulation_forward\n",
      "specific_reset\n",
      "specific_step\n",
      "static_geoms_contact_cost\n",
      "toggle_observation_space\n",
      "update_layout\n",
      "update_world\n",
      "vases\n",
      "viewer\n",
      "vision_env_conf\n",
      "world\n",
      "world_info\n"
     ]
    }
   ],
   "source": [
    "for i in dir(env.task):\n",
    "    print(i)"
   ]
  },
  {
   "cell_type": "code",
   "execution_count": 51,
   "metadata": {},
   "outputs": [],
   "source": [
    "env.task.goal = None  # Remove goal\n",
    "env.task.dist_goal = None  # Remove goal distance tracking\n",
    "# env.task.goal_achieved = False  # Ensure goal completion condition is ignored"
   ]
  },
  {
   "cell_type": "code",
   "execution_count": 66,
   "metadata": {},
   "outputs": [
    {
     "data": {
      "text/plain": [
       "(array([ 0.        ,  0.        ,  9.81      ,  0.        ,  0.        ,\n",
       "         0.        ,  0.        ,  0.        ,  0.        , -0.37667889,\n",
       "         0.32880543,  0.        ,  0.        ,  0.        ,  0.        ,\n",
       "         0.        ,  0.        ,  0.        ,  0.        ,  0.        ,\n",
       "         0.        ,  0.        ,  0.        ,  0.        ,  0.        ,\n",
       "         0.        ,  0.        ,  0.        ,  0.46168267,  0.38140332,\n",
       "         0.18898117,  0.        ,  0.        ,  0.        ,  0.        ,\n",
       "         0.        ,  0.        ,  0.        ,  0.        ,  0.        ,\n",
       "         0.39706523,  0.50481054,  0.66362125,  0.71285392,  0.6022672 ,\n",
       "         0.79885523,  0.61481301,  0.        ,  0.        ,  0.        ,\n",
       "         0.        ,  0.        ,  0.        ,  0.30132379,  0.49911936,\n",
       "         0.32699311,  0.18191966,  0.71105964,  0.7940205 ,  0.11066172]),\n",
       " {})"
      ]
     },
     "execution_count": 66,
     "metadata": {},
     "output_type": "execute_result"
    }
   ],
   "source": [
    "env.reset()"
   ]
  },
  {
   "cell_type": "code",
   "execution_count": 75,
   "metadata": {},
   "outputs": [
    {
     "data": {
      "text/plain": [
       "['__abstractmethods__',\n",
       " '__class__',\n",
       " '__delattr__',\n",
       " '__dict__',\n",
       " '__dir__',\n",
       " '__doc__',\n",
       " '__eq__',\n",
       " '__format__',\n",
       " '__ge__',\n",
       " '__getattribute__',\n",
       " '__gt__',\n",
       " '__hash__',\n",
       " '__init__',\n",
       " '__init_subclass__',\n",
       " '__le__',\n",
       " '__lt__',\n",
       " '__module__',\n",
       " '__ne__',\n",
       " '__new__',\n",
       " '__reduce__',\n",
       " '__reduce_ex__',\n",
       " '__repr__',\n",
       " '__setattr__',\n",
       " '__sizeof__',\n",
       " '__slots__',\n",
       " '__str__',\n",
       " '__subclasshook__',\n",
       " '__weakref__',\n",
       " '_abc_impl',\n",
       " '_build_action_space',\n",
       " '_init_body_info',\n",
       " '_init_jnt_sensors',\n",
       " '_load_model',\n",
       " 'action_space',\n",
       " 'apply_action',\n",
       " 'base',\n",
       " 'body_info',\n",
       " 'build_sensor_observation_space',\n",
       " 'com',\n",
       " 'debug',\n",
       " 'debug_info',\n",
       " 'dist_xy',\n",
       " 'engine',\n",
       " 'get_sensor',\n",
       " 'is_alive',\n",
       " 'keepout',\n",
       " 'keyboard_control_callback',\n",
       " 'locations',\n",
       " 'mat',\n",
       " 'obs_sensor',\n",
       " 'placements',\n",
       " 'pos',\n",
       " 'random_generator',\n",
       " 'reset',\n",
       " 'rot',\n",
       " 'sensor_conf',\n",
       " 'sensor_info',\n",
       " 'set_engine',\n",
       " 'vel',\n",
       " 'world_xy',\n",
       " 'z_height']"
      ]
     },
     "execution_count": 75,
     "metadata": {},
     "output_type": "execute_result"
    }
   ],
   "source": [
    "dir(env.task.agent)"
   ]
  },
  {
   "cell_type": "code",
   "execution_count": 76,
   "metadata": {},
   "outputs": [
    {
     "data": {
      "text/plain": [
       "1000"
      ]
     },
     "execution_count": 76,
     "metadata": {},
     "output_type": "execute_result"
    }
   ],
   "source": [
    "env.task.num_steps"
   ]
  },
  {
   "cell_type": "code",
   "execution_count": null,
   "metadata": {},
   "outputs": [
    {
     "name": "stdout",
     "output_type": "stream",
     "text": [
      "Truncated in iter 500\n"
     ]
    },
    {
     "ename": "AssertionError",
     "evalue": "Environment must be reset before stepping.",
     "output_type": "error",
     "traceback": [
      "\u001b[0;31m---------------------------------------------------------------------------\u001b[0m",
      "\u001b[0;31mAssertionError\u001b[0m                            Traceback (most recent call last)",
      "Cell \u001b[0;32mIn[83], line 4\u001b[0m\n\u001b[1;32m      2\u001b[0m \u001b[38;5;28;01mfor\u001b[39;00m i \u001b[38;5;129;01min\u001b[39;00m \u001b[38;5;28mrange\u001b[39m(\u001b[38;5;241m1000\u001b[39m):\n\u001b[1;32m      3\u001b[0m     act \u001b[38;5;241m=\u001b[39m env\u001b[38;5;241m.\u001b[39maction_space\u001b[38;5;241m.\u001b[39msample()\n\u001b[0;32m----> 4\u001b[0m     \u001b[43menv\u001b[49m\u001b[38;5;241;43m.\u001b[39;49m\u001b[43mstep\u001b[49m\u001b[43m(\u001b[49m\u001b[43mact\u001b[49m\u001b[43m)\u001b[49m\n\u001b[1;32m      5\u001b[0m     ns, _, _, terminated, truncated, _ \u001b[38;5;241m=\u001b[39m env\u001b[38;5;241m.\u001b[39mstep(act)\n\u001b[1;32m      6\u001b[0m     \u001b[38;5;28;01mif\u001b[39;00m terminated:\n",
      "File \u001b[0;32m~/safety-gymnasium/safety_gymnasium/wrappers/time_limit.py:47\u001b[0m, in \u001b[0;36mSafeTimeLimit.step\u001b[0;34m(self, action)\u001b[0m\n\u001b[1;32m     36\u001b[0m \u001b[38;5;28;01mdef\u001b[39;00m\u001b[38;5;250m \u001b[39m\u001b[38;5;21mstep\u001b[39m(\u001b[38;5;28mself\u001b[39m, action):\n\u001b[1;32m     37\u001b[0m \u001b[38;5;250m    \u001b[39m\u001b[38;5;124;03m\"\"\"Steps through the environment and if the number of steps elapsed exceeds ``max_episode_steps`` then truncate.\u001b[39;00m\n\u001b[1;32m     38\u001b[0m \n\u001b[1;32m     39\u001b[0m \u001b[38;5;124;03m    Args:\u001b[39;00m\n\u001b[0;32m   (...)\u001b[0m\n\u001b[1;32m     45\u001b[0m \n\u001b[1;32m     46\u001b[0m \u001b[38;5;124;03m    \"\"\"\u001b[39;00m\n\u001b[0;32m---> 47\u001b[0m     observation, reward, cost, terminated, truncated, info \u001b[38;5;241m=\u001b[39m \u001b[38;5;28;43mself\u001b[39;49m\u001b[38;5;241;43m.\u001b[39;49m\u001b[43menv\u001b[49m\u001b[38;5;241;43m.\u001b[39;49m\u001b[43mstep\u001b[49m\u001b[43m(\u001b[49m\u001b[43maction\u001b[49m\u001b[43m)\u001b[49m\n\u001b[1;32m     48\u001b[0m     \u001b[38;5;28mself\u001b[39m\u001b[38;5;241m.\u001b[39m_elapsed_steps \u001b[38;5;241m+\u001b[39m\u001b[38;5;241m=\u001b[39m \u001b[38;5;241m1\u001b[39m\n\u001b[1;32m     50\u001b[0m     \u001b[38;5;28;01mif\u001b[39;00m \u001b[38;5;28mself\u001b[39m\u001b[38;5;241m.\u001b[39m_elapsed_steps \u001b[38;5;241m>\u001b[39m\u001b[38;5;241m=\u001b[39m \u001b[38;5;28mself\u001b[39m\u001b[38;5;241m.\u001b[39m_max_episode_steps:\n",
      "File \u001b[0;32m~/miniconda3/envs/rl_env/lib/python3.9/site-packages/gymnasium/wrappers/order_enforcing.py:56\u001b[0m, in \u001b[0;36mOrderEnforcing.step\u001b[0;34m(self, action)\u001b[0m\n\u001b[1;32m     54\u001b[0m \u001b[38;5;28;01mif\u001b[39;00m \u001b[38;5;129;01mnot\u001b[39;00m \u001b[38;5;28mself\u001b[39m\u001b[38;5;241m.\u001b[39m_has_reset:\n\u001b[1;32m     55\u001b[0m     \u001b[38;5;28;01mraise\u001b[39;00m ResetNeeded(\u001b[38;5;124m\"\u001b[39m\u001b[38;5;124mCannot call env.step() before calling env.reset()\u001b[39m\u001b[38;5;124m\"\u001b[39m)\n\u001b[0;32m---> 56\u001b[0m \u001b[38;5;28;01mreturn\u001b[39;00m \u001b[38;5;28;43mself\u001b[39;49m\u001b[38;5;241;43m.\u001b[39;49m\u001b[43menv\u001b[49m\u001b[38;5;241;43m.\u001b[39;49m\u001b[43mstep\u001b[49m\u001b[43m(\u001b[49m\u001b[43maction\u001b[49m\u001b[43m)\u001b[49m\n",
      "File \u001b[0;32m~/safety-gymnasium/safety_gymnasium/wrappers/env_checker.py:36\u001b[0m, in \u001b[0;36mSafePassiveEnvChecker.step\u001b[0;34m(self, action)\u001b[0m\n\u001b[1;32m     33\u001b[0m     \u001b[38;5;28mself\u001b[39m\u001b[38;5;241m.\u001b[39mchecked_step \u001b[38;5;241m=\u001b[39m \u001b[38;5;28;01mTrue\u001b[39;00m\n\u001b[1;32m     34\u001b[0m     \u001b[38;5;28;01mreturn\u001b[39;00m env_step_passive_checker(\u001b[38;5;28mself\u001b[39m\u001b[38;5;241m.\u001b[39menv, action)\n\u001b[0;32m---> 36\u001b[0m \u001b[38;5;28;01mreturn\u001b[39;00m \u001b[38;5;28;43mself\u001b[39;49m\u001b[38;5;241;43m.\u001b[39;49m\u001b[43menv\u001b[49m\u001b[38;5;241;43m.\u001b[39;49m\u001b[43mstep\u001b[49m\u001b[43m(\u001b[49m\u001b[43maction\u001b[49m\u001b[43m)\u001b[49m\n",
      "File \u001b[0;32m~/safety-gymnasium/safety_gymnasium/builder.py:195\u001b[0m, in \u001b[0;36mBuilder.step\u001b[0;34m(self, action)\u001b[0m\n\u001b[1;32m    193\u001b[0m \u001b[38;5;28;01mdef\u001b[39;00m\u001b[38;5;250m \u001b[39m\u001b[38;5;21mstep\u001b[39m(\u001b[38;5;28mself\u001b[39m, action: np\u001b[38;5;241m.\u001b[39mndarray) \u001b[38;5;241m-\u001b[39m\u001b[38;5;241m>\u001b[39m \u001b[38;5;28mtuple\u001b[39m[np\u001b[38;5;241m.\u001b[39mndarray, \u001b[38;5;28mfloat\u001b[39m, \u001b[38;5;28mfloat\u001b[39m, \u001b[38;5;28mbool\u001b[39m, \u001b[38;5;28mbool\u001b[39m, \u001b[38;5;28mdict\u001b[39m]:\n\u001b[1;32m    194\u001b[0m \u001b[38;5;250m    \u001b[39m\u001b[38;5;124;03m\"\"\"Take a step and return observation, reward, cost, terminated, truncated, info.\"\"\"\u001b[39;00m\n\u001b[0;32m--> 195\u001b[0m     \u001b[38;5;28;01massert\u001b[39;00m \u001b[38;5;129;01mnot\u001b[39;00m \u001b[38;5;28mself\u001b[39m\u001b[38;5;241m.\u001b[39mdone, \u001b[38;5;124m'\u001b[39m\u001b[38;5;124mEnvironment must be reset before stepping.\u001b[39m\u001b[38;5;124m'\u001b[39m\n\u001b[1;32m    196\u001b[0m     action \u001b[38;5;241m=\u001b[39m np\u001b[38;5;241m.\u001b[39marray(action, copy\u001b[38;5;241m=\u001b[39m\u001b[38;5;28;01mFalse\u001b[39;00m)  \u001b[38;5;66;03m# cast to ndarray\u001b[39;00m\n\u001b[1;32m    197\u001b[0m     \u001b[38;5;28;01mif\u001b[39;00m action\u001b[38;5;241m.\u001b[39mshape \u001b[38;5;241m!=\u001b[39m \u001b[38;5;28mself\u001b[39m\u001b[38;5;241m.\u001b[39maction_space\u001b[38;5;241m.\u001b[39mshape:  \u001b[38;5;66;03m# check action dimension\u001b[39;00m\n",
      "\u001b[0;31mAssertionError\u001b[0m: Environment must be reset before stepping."
     ]
    }
   ],
   "source": [
    "s, _ = env.reset()\n",
    "for i in range(1000):\n",
    "    act = env.action_space.sample()\n",
    "    env.step(act)\n",
    "    ns, _, _, terminated, truncated, _ = env.step(act)\n",
    "    if terminated:\n",
    "        print (f\"Terminated in iter {i + 1}\")\n",
    "        if s == ns:\n",
    "            print(\"States are the same bruh\")\n",
    "    if truncated:\n",
    "        print (f\"Truncated in iter {i + 1}\")\n",
    "    s = ns\n",
    "    print(\"One step done\")"
   ]
  },
  {
   "cell_type": "code",
   "execution_count": 81,
   "metadata": {},
   "outputs": [
    {
     "data": {
      "text/plain": [
       "array([0.        , 0.        , 9.81      , 0.        , 0.        ,\n",
       "       0.        , 0.        , 0.        , 0.        , 0.49973329,\n",
       "       0.01632916, 0.        , 0.        , 0.        , 0.        ,\n",
       "       0.        , 0.        , 0.        , 0.        , 0.        ,\n",
       "       0.        , 0.        , 0.20557594, 0.53956877, 0.33399283,\n",
       "       0.        , 0.        , 0.        , 0.63889349, 0.71901521,\n",
       "       0.10300368, 0.46701257, 0.39196807, 0.43011249, 0.47528243,\n",
       "       0.56379898, 0.08851655, 0.18709485, 0.50941531, 0.32232046,\n",
       "       0.01725441, 0.27526152, 0.76228501, 0.69628043, 0.20391412,\n",
       "       0.63579955, 0.6087739 , 0.09102056, 0.50004599, 0.56711921,\n",
       "       0.20920539, 0.34230943, 0.79591073, 0.4536013 , 0.72291357,\n",
       "       0.65376539, 0.        , 0.21404971, 0.55550223, 0.53404657])"
      ]
     },
     "execution_count": 81,
     "metadata": {},
     "output_type": "execute_result"
    }
   ],
   "source": [
    "s"
   ]
  },
  {
   "cell_type": "code",
   "execution_count": 82,
   "metadata": {},
   "outputs": [
    {
     "data": {
      "text/plain": [
       "array([ 2.68898589,  2.28094486,  9.81      ,  0.11105991,  0.01579968,\n",
       "        0.        , -0.        ,  0.        , -0.79487563,  0.49911525,\n",
       "        0.02973161,  0.        ,  0.        ,  0.        ,  0.        ,\n",
       "        0.        ,  0.        ,  0.        ,  0.        ,  0.        ,\n",
       "        0.        ,  0.        ,  0.17087594,  0.53929468,  0.36841874,\n",
       "        0.        ,  0.        ,  0.        ,  0.58915459,  0.71979689,\n",
       "        0.1306423 ,  0.46721905,  0.42580416,  0.42977952,  0.434887  ,\n",
       "        0.56310377,  0.12821677,  0.15370026,  0.5088759 ,  0.35517565,\n",
       "        0.        ,  0.27479303,  0.76293766,  0.74515793,  0.22223876,\n",
       "        0.61809754,  0.63647606,  0.05480677,  0.49994576,  0.56684986,\n",
       "        0.25036811,  0.28784383,  0.79510634,  0.50726251,  0.72244043,\n",
       "        0.69838603,  0.        ,  0.18836053,  0.54110128,  0.55616385])"
      ]
     },
     "execution_count": 82,
     "metadata": {},
     "output_type": "execute_result"
    }
   ],
   "source": [
    "ns"
   ]
  },
  {
   "cell_type": "code",
   "execution_count": null,
   "metadata": {},
   "outputs": [],
   "source": [
    "for _ in range(100):\n",
    "    act = env.action_space.sample()\n",
    "    new_state, reward, cost, terminated, truncated, info = env.step(act)"
   ]
  },
  {
   "cell_type": "code",
   "execution_count": 23,
   "metadata": {},
   "outputs": [
    {
     "data": {
      "text/plain": [
       "-0.0033912437081586866"
      ]
     },
     "execution_count": 23,
     "metadata": {},
     "output_type": "execute_result"
    }
   ],
   "source": [
    "reward"
   ]
  },
  {
   "cell_type": "code",
   "execution_count": 29,
   "metadata": {},
   "outputs": [
    {
     "data": {
      "text/plain": [
       "array([ 3.33099610e+00,  6.60883549e+00,  1.44367428e+01,  1.84440792e-02,\n",
       "       -7.61994594e-02,  1.01142211e-02,  1.01282470e-01,  6.29291039e-01,\n",
       "       -6.88697815e-01, -1.43894203e-01, -4.78830075e-01,  4.02707896e-03,\n",
       "        8.05895484e-01, -1.63789522e+00,  6.36175930e-01,  7.51492993e-01,\n",
       "       -5.50383262e-01,  3.63780903e-01,  4.90767097e-01,  8.34865644e-01,\n",
       "        2.49293026e-01, -4.40914887e-01, -8.81026442e-03,  8.97505678e-01,\n",
       "        1.43707622e-01,  2.02642017e-01,  5.89343947e-02,  0.00000000e+00,\n",
       "        0.00000000e+00,  0.00000000e+00,  0.00000000e+00,  0.00000000e+00,\n",
       "        0.00000000e+00,  0.00000000e+00,  0.00000000e+00,  0.00000000e+00,\n",
       "        0.00000000e+00,  0.00000000e+00,  0.00000000e+00,  0.00000000e+00,\n",
       "        5.64273398e-01,  5.26614584e-01,  3.98543005e-01,  4.18327333e-01,\n",
       "        1.52471030e-01,  0.00000000e+00,  0.00000000e+00,  0.00000000e+00,\n",
       "        0.00000000e+00,  5.75992975e-01,  7.74824509e-01,  1.98831534e-01,\n",
       "        5.49742919e-01,  6.54068925e-01,  1.04326005e-01,  3.54114809e-01,\n",
       "        0.00000000e+00,  0.00000000e+00,  0.00000000e+00,  0.00000000e+00,\n",
       "        0.00000000e+00,  0.00000000e+00,  0.00000000e+00,  0.00000000e+00,\n",
       "        0.00000000e+00,  0.00000000e+00,  0.00000000e+00,  0.00000000e+00,\n",
       "        0.00000000e+00,  1.33079766e-01,  7.21707031e-01,  5.88627265e-01])"
      ]
     },
     "execution_count": 29,
     "metadata": {},
     "output_type": "execute_result"
    }
   ],
   "source": [
    "new_state"
   ]
  },
  {
   "cell_type": "code",
   "execution_count": 2,
   "metadata": {},
   "outputs": [],
   "source": [
    "import torch\n",
    "if torch.cuda.is_available():\n",
    "    dev = \"cuda:0\"\n",
    "else:\n",
    "    dev = \"cpu\""
   ]
  },
  {
   "cell_type": "code",
   "execution_count": 3,
   "metadata": {},
   "outputs": [
    {
     "data": {
      "text/plain": [
       "'cuda:0'"
      ]
     },
     "execution_count": 3,
     "metadata": {},
     "output_type": "execute_result"
    }
   ],
   "source": [
    "dev"
   ]
  },
  {
   "cell_type": "code",
   "execution_count": null,
   "metadata": {},
   "outputs": [],
   "source": []
  }
 ],
 "metadata": {
  "kernelspec": {
   "display_name": "rl_env",
   "language": "python",
   "name": "python3"
  },
  "language_info": {
   "codemirror_mode": {
    "name": "ipython",
    "version": 3
   },
   "file_extension": ".py",
   "mimetype": "text/x-python",
   "name": "python",
   "nbconvert_exporter": "python",
   "pygments_lexer": "ipython3",
   "version": "3.9.21"
  }
 },
 "nbformat": 4,
 "nbformat_minor": 2
}
