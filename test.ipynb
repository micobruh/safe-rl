{
 "cells": [
  {
   "cell_type": "code",
   "execution_count": 39,
   "metadata": {},
   "outputs": [],
   "source": [
    "import safety_gymnasium\n",
    "from tqdm import tqdm, trange\n",
    "import hashlib"
   ]
  },
  {
   "cell_type": "code",
   "execution_count": 40,
   "metadata": {},
   "outputs": [],
   "source": [
    "def simulation(env, iter_nr = 1000, reward_free = False):\n",
    "    obs, info = env.reset()\n",
    "    # Set seeds\n",
    "    # obs, _ = env.reset(seed=0)\n",
    "    terminated, truncated = False, False\n",
    "    ep_ret, ep_cost = 0, 0\n",
    "    \n",
    "    for _ in trange(iter_nr):\n",
    "        assert env.observation_space.contains(obs)\n",
    "        act = env.action_space.sample()\n",
    "        assert env.action_space.contains(act)\n",
    "        obs, reward, cost, terminated, truncated, info = env.step(act)\n",
    "        # Only add the reward during deployment i.e. not reward-free\n",
    "        if not reward_free:\n",
    "            ep_ret += reward\n",
    "        ep_cost += cost\n",
    "        if terminated or truncated:\n",
    "            observation, info = env.reset()\n",
    "\n",
    "    env.close()\n",
    "    return ep_ret, ep_cost"
   ]
  },
  {
   "cell_type": "code",
   "execution_count": 140,
   "metadata": {},
   "outputs": [],
   "source": [
    "env = safety_gymnasium.vector.make('SafetyPointGoal2-v0', render_mode='human', max_episode_steps = 1000, num_envs = 10)\n",
    "# env.reset()\n",
    "# ret, cost = simulation(env, reward_free = True)\n",
    "# ret, cost"
   ]
  },
  {
   "cell_type": "code",
   "execution_count": 147,
   "metadata": {},
   "outputs": [
    {
     "data": {
      "text/plain": [
       "array([[ 5.78813812e-01, -8.20718795e-01, -6.20810500e-01,\n",
       "        -4.13619772e-01, -5.13893023e-01, -9.07877536e-01,\n",
       "        -9.21364926e-02,  9.01835490e-01, -1.18659904e+00,\n",
       "        -1.63576488e+00, -8.45475715e-02,  1.84453042e-01,\n",
       "         9.92062569e-01,  7.50542474e-01,  7.43735743e-01,\n",
       "         8.93354088e-01,  4.62202510e-03,  5.60088004e-01,\n",
       "         6.72021829e-01,  4.15345516e-01,  7.77850538e-02,\n",
       "         8.00208079e-01,  5.50554298e-01,  7.61942108e-01,\n",
       "         6.07597374e-01,  1.20131150e-01,  4.99078403e-01,\n",
       "         1.66404833e-01,  6.55310020e-01,  4.50055590e-02,\n",
       "         2.95552054e-01,  1.29217486e-01,  4.65456461e-03,\n",
       "         5.86104482e-01,  8.13901369e-01,  2.12875970e-01,\n",
       "         5.94656422e-01,  5.71533151e-01,  5.56934342e-01,\n",
       "         2.40300159e-01,  5.06706705e-01,  7.58554326e-01,\n",
       "         2.19985993e-01,  4.53217880e-01,  1.44284856e-01,\n",
       "         7.42931305e-01,  9.30247694e-01,  6.70096928e-01,\n",
       "         2.10203731e-01,  4.66576675e-01,  4.23491923e-01,\n",
       "         1.44665698e-01,  5.11754914e-02,  6.68022120e-02,\n",
       "         6.84262184e-01,  1.17762694e-01,  2.25849740e-01,\n",
       "         6.83291113e-01,  8.26288464e-01,  2.17961002e-01],\n",
       "       [ 5.53605164e-01, -6.65874606e-01, -8.11370880e-01,\n",
       "        -9.77606459e-02, -6.08228193e-01, -3.58219086e-01,\n",
       "        -4.81366502e-01, -1.58736157e+00, -2.60917123e+00,\n",
       "        -1.65314167e+00,  1.68470766e+00,  9.99860799e-01,\n",
       "         5.34942628e-01,  7.47198050e-01,  7.92281997e-01,\n",
       "         5.23195547e-01,  5.59276069e-01,  7.27019415e-01,\n",
       "         3.22778434e-02,  2.60273147e-01,  1.59987005e-01,\n",
       "         6.45847366e-01,  4.06338104e-01,  3.41275003e-01,\n",
       "         8.87951584e-01,  2.05234966e-01,  9.35199329e-01,\n",
       "         4.94566638e-01,  5.99448467e-01,  2.97243649e-01,\n",
       "         8.63109140e-01,  9.65119111e-01,  9.56482933e-01,\n",
       "         1.79470081e-02,  8.27710583e-01,  3.02230807e-01,\n",
       "         6.69591046e-02,  2.61216447e-01,  9.20859241e-01,\n",
       "         9.72774175e-01,  1.91007239e-02,  3.61554835e-01,\n",
       "         9.29178739e-01,  4.47690738e-01,  4.72367579e-01,\n",
       "         6.07552619e-02,  8.22423508e-01,  4.00387876e-01,\n",
       "         9.01441517e-01,  5.94697970e-02,  7.61829900e-01,\n",
       "         1.88895494e-01,  8.09599760e-01,  1.05758663e-01,\n",
       "         2.73434546e-01,  1.45584893e-01,  9.27028675e-01,\n",
       "         9.65646733e-01,  5.90063580e-02,  5.15202251e-01],\n",
       "       [-1.12778671e+00, -4.05082239e-01,  1.22196960e+00,\n",
       "        -1.13861890e+00, -5.36393992e-01, -2.32623633e+00,\n",
       "        -1.01070443e+00,  2.58647996e+00,  7.89197004e-01,\n",
       "         1.29360184e+00, -1.68253104e+00,  5.22615094e-01,\n",
       "         4.04733628e-01,  2.17769256e-01,  5.96807545e-01,\n",
       "         1.58677017e-02,  2.07304713e-01,  3.88905736e-01,\n",
       "         7.29611044e-01,  5.79145058e-01,  5.81157216e-01,\n",
       "         7.14247348e-01,  3.60352968e-01,  6.44935986e-01,\n",
       "         3.60601449e-01,  2.60088924e-01,  5.59839598e-01,\n",
       "         2.31069103e-01,  1.37468054e-01,  5.44418029e-01,\n",
       "         2.91419825e-01,  7.67942471e-01,  2.24386085e-01,\n",
       "         6.20409598e-01,  9.81050165e-01,  7.59455279e-01,\n",
       "         7.94318944e-01,  5.30282480e-01,  1.09164207e-01,\n",
       "         8.70009744e-01,  2.01086415e-01,  2.84504704e-01,\n",
       "         9.61160081e-01,  1.21934663e-01,  3.55567487e-01,\n",
       "         8.89518953e-01,  2.10685865e-01,  4.34645866e-01,\n",
       "         7.93029487e-01,  8.30815061e-01,  3.41190579e-01,\n",
       "         5.64565680e-01,  5.44730306e-01,  6.64770100e-01,\n",
       "         8.60479944e-01,  2.62011477e-01,  7.77152968e-01,\n",
       "         1.57483711e-01,  6.96078746e-01,  7.01489134e-01],\n",
       "       [ 1.88895468e-01,  4.12561661e-01, -1.12756325e+00,\n",
       "        -6.32414180e-01,  8.43588907e-01,  8.05997447e-01,\n",
       "        -1.24744733e+00, -8.64290636e-02, -1.24424204e-02,\n",
       "         1.46431281e-01,  9.13992463e-01,  2.22714928e+00,\n",
       "         9.66607591e-01,  8.14544279e-01,  5.09535135e-01,\n",
       "         7.64476964e-01,  5.50134870e-01,  2.15153607e-01,\n",
       "         5.41953953e-01,  2.19851873e-01,  7.21646851e-01,\n",
       "         7.18880827e-01,  8.57597636e-01,  3.69644622e-01,\n",
       "         2.65137269e-02,  2.09064908e-01,  5.73648918e-01,\n",
       "         4.13786454e-01,  4.31719082e-03,  2.44753315e-01,\n",
       "         4.15136250e-01,  8.35425171e-01,  3.55309053e-01,\n",
       "         7.10188658e-01,  9.82692107e-01,  6.35713798e-01,\n",
       "         3.35853080e-01,  6.04941503e-01,  1.17767057e-02,\n",
       "         5.06659347e-01,  8.96736473e-01,  2.43774962e-02,\n",
       "         4.53528623e-01,  1.73392745e-01,  4.25555572e-01,\n",
       "         3.64993535e-01,  2.87403603e-01,  8.73407704e-01,\n",
       "         5.76995503e-01,  2.13778245e-01,  6.11195687e-02,\n",
       "         4.60893340e-01,  1.40651476e-01,  6.23734175e-02,\n",
       "         3.09758950e-01,  4.10837513e-01,  2.81843974e-01,\n",
       "         4.54642123e-01,  6.68558790e-01,  1.06077761e-03],\n",
       "       [ 1.26753316e+00,  6.36403259e-01, -1.65195923e+00,\n",
       "         1.29779886e+00, -8.06302299e-01,  3.64316971e-01,\n",
       "        -9.62019199e-01,  4.02313776e-01,  4.49939086e-01,\n",
       "        -7.31776371e-01, -8.94153910e-01,  8.89433870e-01,\n",
       "         8.17052210e-01,  1.61067745e-01,  2.34807601e-01,\n",
       "         8.40762501e-01,  1.86920734e-01,  1.85678512e-01,\n",
       "         5.98616320e-01,  1.78947295e-01,  3.49271015e-02,\n",
       "         9.56936849e-01,  1.30508012e-01,  6.08380159e-02,\n",
       "         3.61391030e-02,  7.35383467e-01,  8.00584749e-01,\n",
       "         3.09677942e-01,  5.76522118e-01,  7.23336008e-01,\n",
       "         9.06687031e-01,  5.33909518e-01,  1.42128501e-01,\n",
       "         8.60765576e-01,  6.07627063e-01,  3.87753274e-01,\n",
       "         3.71632850e-01,  2.87440696e-01,  2.88646388e-02,\n",
       "         9.13166600e-01,  4.72715621e-02,  1.08991027e-01,\n",
       "         6.78140307e-01,  4.94629699e-01,  2.23901687e-01,\n",
       "         7.57057372e-01,  3.37578474e-01,  7.73503902e-03,\n",
       "         6.24088622e-01,  3.58631916e-01,  8.91092564e-01,\n",
       "         4.38282047e-01,  6.68622008e-02,  9.55793646e-01,\n",
       "         7.14936249e-01,  6.93268767e-01,  3.07023046e-01,\n",
       "         6.87772439e-01,  9.53564776e-01,  9.76783848e-01],\n",
       "       [ 7.70587186e-01,  1.37839580e+00,  3.64653778e-01,\n",
       "        -1.73623567e+00,  2.13722228e-01,  1.29775470e+00,\n",
       "         7.43687071e-01,  4.47677576e-01,  1.13446712e+00,\n",
       "        -3.35817518e-01, -9.95896654e-01, -8.76032610e-01,\n",
       "         8.53880622e-01,  1.58359683e-01,  3.09714656e-01,\n",
       "         1.29254222e-02,  3.47404189e-01,  3.84362270e-01,\n",
       "         6.96823674e-01,  9.07732777e-01,  5.06945880e-01,\n",
       "         4.46172637e-01,  9.08366024e-01,  9.73507276e-01,\n",
       "         7.95028638e-01,  1.89004603e-01,  4.44291761e-01,\n",
       "         4.46429411e-01,  5.46116895e-01,  2.72059067e-01,\n",
       "         7.97643327e-01,  7.78581461e-01,  8.58166742e-01,\n",
       "         5.62998011e-01,  1.02315567e-01,  2.21381232e-01,\n",
       "         2.45815821e-01,  1.32559323e-01,  9.84385614e-01,\n",
       "         5.06177626e-01,  4.37979678e-01,  5.41627004e-02,\n",
       "         3.10988619e-02,  1.00461343e-01,  1.04060382e-01,\n",
       "         3.25204164e-01,  2.71833097e-01,  6.81824917e-01,\n",
       "         9.15096910e-01,  2.47717435e-02,  5.29685845e-02,\n",
       "         1.42998737e-01,  6.41660133e-01,  2.91565174e-01,\n",
       "         1.97529780e-01,  3.74190001e-02,  1.53951490e-01,\n",
       "         7.02220932e-01,  1.19963319e-01,  5.73260090e-01],\n",
       "       [-2.68848106e-01, -1.15773120e+00,  2.86511054e-01,\n",
       "         6.55624682e-01,  6.09965420e-02,  5.39257988e-01,\n",
       "         1.23530937e-02,  1.60291693e+00, -1.07906793e+00,\n",
       "         1.05891027e+00,  6.39996596e-01, -4.07003059e-01,\n",
       "         6.00957935e-01,  7.27370371e-01,  8.53207724e-01,\n",
       "         6.07412626e-02,  5.75761242e-02,  2.18911472e-01,\n",
       "         6.86031602e-02,  4.91127165e-01,  6.71181541e-01,\n",
       "         7.95693286e-01,  5.72297290e-02,  9.24583688e-01,\n",
       "         6.27264137e-01,  4.42392922e-01,  8.74536829e-01,\n",
       "         9.03994418e-01,  2.61956278e-01,  1.10451916e-02,\n",
       "         5.89134946e-01,  5.20263859e-01,  5.21675931e-01,\n",
       "         7.69791202e-01,  4.74613158e-01,  9.08949946e-01,\n",
       "         7.22041662e-01,  7.72127198e-02,  3.48768144e-01,\n",
       "         5.27255788e-02,  8.02599730e-01,  1.57115962e-01,\n",
       "         4.71715223e-01,  5.50801585e-01,  3.13968431e-01,\n",
       "         5.75216555e-01,  4.31749190e-01,  2.03358785e-01,\n",
       "         7.01258224e-01,  7.92292610e-01,  6.74931698e-01,\n",
       "         9.62599476e-01,  9.13403725e-01,  4.80163387e-01,\n",
       "         4.94342167e-01,  9.86880739e-01,  8.49327581e-01,\n",
       "         5.22664559e-02,  9.16023138e-01,  4.35702854e-01],\n",
       "       [ 5.34187258e-01, -7.74566046e-01, -8.43965968e-01,\n",
       "         4.14534548e-01, -4.89543245e-01,  7.30429365e-01,\n",
       "         4.75299706e-01,  3.12025331e-01, -1.96022572e-01,\n",
       "        -1.43105489e+00,  4.28462836e-01, -1.09619795e+00,\n",
       "         3.73772926e-01,  6.55824178e-01,  9.68791999e-01,\n",
       "         3.67530997e-01,  6.72614117e-01,  7.67494553e-01,\n",
       "         3.27109333e-01,  3.34244024e-01,  8.37779334e-01,\n",
       "         8.88355367e-02,  2.80736905e-01,  4.18876456e-01,\n",
       "         2.84974912e-02,  2.56074723e-01,  8.79267728e-01,\n",
       "         8.35450475e-01,  6.40679873e-01,  5.36824157e-01,\n",
       "         6.50016635e-01,  5.13374458e-01,  5.52143850e-01,\n",
       "         3.17857754e-01,  7.84416898e-01,  4.78231175e-01,\n",
       "         2.96329360e-01,  9.85480171e-03,  7.52080925e-01,\n",
       "         5.03098541e-01,  8.64768347e-01,  1.06389185e-01,\n",
       "         3.52082395e-01,  8.60625365e-01,  6.34541515e-02,\n",
       "         6.29895801e-01,  5.51714607e-01,  1.06514561e-01,\n",
       "         9.54210159e-01,  6.77928935e-01,  2.57963686e-01,\n",
       "         7.42031404e-01,  9.38217065e-01,  1.18663712e-01,\n",
       "         3.71247860e-01,  7.41221964e-02,  8.58942925e-01,\n",
       "         3.45132823e-01,  6.18295549e-01,  5.12933670e-01],\n",
       "       [-1.45740554e-01,  2.78552882e-01, -5.55403547e-01,\n",
       "         9.70387733e-01,  7.81486746e-03, -9.50965034e-02,\n",
       "         5.25211245e-01,  8.98840726e-01, -2.24175236e-01,\n",
       "        -1.68549194e+00,  1.12059968e+00, -5.87007782e-01,\n",
       "         6.41614684e-01,  6.22130433e-01,  2.01198732e-01,\n",
       "         6.57516935e-01,  5.25222677e-01,  1.78391717e-01,\n",
       "         6.94195254e-01,  6.13644857e-01,  9.91138033e-01,\n",
       "         4.31361369e-01,  1.99081909e-02,  7.14570999e-02,\n",
       "         2.57102512e-01,  3.19310914e-01,  2.67380680e-01,\n",
       "         7.67690985e-01,  2.43839945e-01,  9.60322103e-01,\n",
       "         7.04611968e-01,  9.02405109e-01,  9.62987355e-01,\n",
       "         7.14106975e-01,  4.99839858e-02,  5.56042578e-01,\n",
       "         8.46647916e-01,  4.02777328e-01,  3.88764464e-01,\n",
       "         7.95533296e-01,  7.65699890e-01,  1.04386462e-01,\n",
       "         6.08457642e-01,  6.72353095e-01,  8.74999397e-01,\n",
       "         9.24246151e-01,  8.07917688e-01,  2.70704274e-01,\n",
       "         7.71163645e-01,  9.38296420e-01,  3.17673475e-01,\n",
       "         7.35496944e-01,  5.96246303e-01,  5.69416100e-01,\n",
       "         9.56794243e-01,  9.77427499e-01,  1.66882749e-01,\n",
       "         3.13968353e-01,  9.53337554e-01,  6.87085323e-01],\n",
       "       [-1.06147048e+00,  2.08793655e-01,  9.53576850e-01,\n",
       "         3.36669268e-02, -7.26310610e-01, -6.86947521e-01,\n",
       "        -9.94422975e-01, -3.09056881e-01,  5.06537505e-01,\n",
       "        -1.01876174e+00,  1.06365751e+00, -1.80786908e+00,\n",
       "         7.82803974e-01,  6.32280134e-01,  1.88368962e-01,\n",
       "         2.29760147e-01,  4.23448298e-01,  3.86312305e-01,\n",
       "         8.86852186e-01,  3.05890509e-01,  9.93061144e-01,\n",
       "         9.05091816e-01,  4.70573610e-01,  8.99793332e-01,\n",
       "         7.23049951e-02,  1.59474709e-01,  7.96463585e-01,\n",
       "         3.23177018e-01,  7.26686677e-01,  6.45396388e-01,\n",
       "         1.72412469e-01,  4.21699434e-01,  9.05449866e-02,\n",
       "         2.13852978e-01,  2.43028900e-01,  4.65541229e-01,\n",
       "         1.38247411e-01,  2.66633292e-02,  2.14547639e-01,\n",
       "         6.26732741e-01,  1.84094090e-01,  4.22632546e-01,\n",
       "         5.51329494e-03,  1.71888463e-01,  2.36210039e-01,\n",
       "         5.06430251e-01,  5.03427734e-01,  4.77702972e-01,\n",
       "         6.90402932e-01,  1.26917857e-01,  3.61315974e-01,\n",
       "         1.10085758e-02,  6.97738837e-01,  8.71120246e-01,\n",
       "         6.82130793e-01,  8.35258905e-01,  3.02917856e-01,\n",
       "         4.95630430e-01,  3.19594168e-01,  6.93463458e-01]])"
      ]
     },
     "execution_count": 147,
     "metadata": {},
     "output_type": "execute_result"
    }
   ],
   "source": [
    "env.observation_space.sample()"
   ]
  },
  {
   "cell_type": "code",
   "execution_count": 138,
   "metadata": {},
   "outputs": [
    {
     "data": {
      "text/plain": [
       "array([[ 0.75103543, -0.52774382]])"
      ]
     },
     "execution_count": 138,
     "metadata": {},
     "output_type": "execute_result"
    }
   ],
   "source": [
    "env.action_space.sample()"
   ]
  },
  {
   "cell_type": "code",
   "execution_count": 127,
   "metadata": {},
   "outputs": [
    {
     "name": "stdout",
     "output_type": "stream",
     "text": [
      "__abstractmethods__\n",
      "__class__\n",
      "__delattr__\n",
      "__dict__\n",
      "__dir__\n",
      "__doc__\n",
      "__eq__\n",
      "__format__\n",
      "__ge__\n",
      "__getattribute__\n",
      "__gt__\n",
      "__hash__\n",
      "__init__\n",
      "__init_subclass__\n",
      "__le__\n",
      "__lt__\n",
      "__module__\n",
      "__ne__\n",
      "__new__\n",
      "__reduce__\n",
      "__reduce_ex__\n",
      "__repr__\n",
      "__setattr__\n",
      "__sizeof__\n",
      "__slots__\n",
      "__str__\n",
      "__subclasshook__\n",
      "__weakref__\n",
      "_abc_impl\n",
      "_add_free_geoms\n",
      "_add_geoms\n",
      "_add_mocaps\n",
      "_build\n",
      "_build_agent\n",
      "_build_placements_dict\n",
      "_build_static_geoms_config\n",
      "_build_world_config\n",
      "_ego_xy\n",
      "_free_geoms\n",
      "_geoms\n",
      "_get_viewer\n",
      "_is_load_static_geoms\n",
      "_mocaps\n",
      "_obs_compass\n",
      "_obs_lidar\n",
      "_obs_lidar_natural\n",
      "_obs_lidar_pseudo\n",
      "_obs_vision\n",
      "_obstacles\n",
      "_parse\n",
      "_placements_dict_from_object\n",
      "_render_area\n",
      "_render_compass\n",
      "_render_lidar\n",
      "_render_sphere\n",
      "_set_goal\n",
      "_update_viewer\n",
      "_viewers\n",
      "action_noise\n",
      "action_space\n",
      "agent\n",
      "agent_name\n",
      "build_goal_position\n",
      "build_observation_space\n",
      "build_staged_goal_position\n",
      "calculate_cost\n",
      "calculate_reward\n",
      "compass_conf\n",
      "cost_conf\n",
      "data\n",
      "debug\n",
      "dist_goal\n",
      "dist_staged_goal\n",
      "floor_conf\n",
      "goal\n",
      "goal_achieved\n",
      "hazards\n",
      "last_dist_goal\n",
      "lidar_conf\n",
      "mechanism_conf\n",
      "model\n",
      "num_steps\n",
      "obs\n",
      "obs_info\n",
      "observation_flatten\n",
      "observation_space\n",
      "observe_vision\n",
      "placements_conf\n",
      "random_generator\n",
      "render\n",
      "render_conf\n",
      "reset\n",
      "reward_conf\n",
      "sim_conf\n",
      "simulation_forward\n",
      "specific_reset\n",
      "specific_step\n",
      "static_geoms_contact_cost\n",
      "toggle_observation_space\n",
      "update_layout\n",
      "update_world\n",
      "vases\n",
      "viewer\n",
      "vision_env_conf\n",
      "world\n",
      "world_info\n"
     ]
    }
   ],
   "source": [
    "for i in dir(env.task):\n",
    "    print(i)"
   ]
  },
  {
   "cell_type": "code",
   "execution_count": 128,
   "metadata": {},
   "outputs": [],
   "source": [
    "# env.task.goal = None  # Remove goal\n",
    "# env.task.dist_goal = None  # Remove goal distance tracking\n",
    "# env.task.sim_conf['frame_skip'] = 1\n",
    "# env.task.goal_achieved = False  # Ensure goal completion condition is ignored"
   ]
  },
  {
   "cell_type": "code",
   "execution_count": 130,
   "metadata": {},
   "outputs": [
    {
     "data": {
      "text/plain": [
       "['__abstractmethods__',\n",
       " '__class__',\n",
       " '__delattr__',\n",
       " '__dict__',\n",
       " '__dir__',\n",
       " '__doc__',\n",
       " '__eq__',\n",
       " '__format__',\n",
       " '__ge__',\n",
       " '__getattribute__',\n",
       " '__gt__',\n",
       " '__hash__',\n",
       " '__init__',\n",
       " '__init_subclass__',\n",
       " '__le__',\n",
       " '__lt__',\n",
       " '__module__',\n",
       " '__ne__',\n",
       " '__new__',\n",
       " '__reduce__',\n",
       " '__reduce_ex__',\n",
       " '__repr__',\n",
       " '__setattr__',\n",
       " '__sizeof__',\n",
       " '__slots__',\n",
       " '__str__',\n",
       " '__subclasshook__',\n",
       " '__weakref__',\n",
       " '_abc_impl',\n",
       " '_add_free_geoms',\n",
       " '_add_geoms',\n",
       " '_add_mocaps',\n",
       " '_build',\n",
       " '_build_agent',\n",
       " '_build_placements_dict',\n",
       " '_build_static_geoms_config',\n",
       " '_build_world_config',\n",
       " '_ego_xy',\n",
       " '_free_geoms',\n",
       " '_geoms',\n",
       " '_get_viewer',\n",
       " '_is_load_static_geoms',\n",
       " '_mocaps',\n",
       " '_obs_compass',\n",
       " '_obs_lidar',\n",
       " '_obs_lidar_natural',\n",
       " '_obs_lidar_pseudo',\n",
       " '_obs_vision',\n",
       " '_obstacles',\n",
       " '_parse',\n",
       " '_placements_dict_from_object',\n",
       " '_render_area',\n",
       " '_render_compass',\n",
       " '_render_lidar',\n",
       " '_render_sphere',\n",
       " '_set_goal',\n",
       " '_update_viewer',\n",
       " '_viewers',\n",
       " 'action_noise',\n",
       " 'action_space',\n",
       " 'agent',\n",
       " 'agent_name',\n",
       " 'build_goal_position',\n",
       " 'build_observation_space',\n",
       " 'build_staged_goal_position',\n",
       " 'calculate_cost',\n",
       " 'calculate_reward',\n",
       " 'compass_conf',\n",
       " 'cost_conf',\n",
       " 'data',\n",
       " 'debug',\n",
       " 'dist_goal',\n",
       " 'dist_staged_goal',\n",
       " 'floor_conf',\n",
       " 'goal',\n",
       " 'goal_achieved',\n",
       " 'hazards',\n",
       " 'last_dist_goal',\n",
       " 'lidar_conf',\n",
       " 'mechanism_conf',\n",
       " 'model',\n",
       " 'num_steps',\n",
       " 'obs',\n",
       " 'obs_info',\n",
       " 'observation_flatten',\n",
       " 'observation_space',\n",
       " 'observe_vision',\n",
       " 'placements_conf',\n",
       " 'random_generator',\n",
       " 'render',\n",
       " 'render_conf',\n",
       " 'reset',\n",
       " 'reward_conf',\n",
       " 'sim_conf',\n",
       " 'simulation_forward',\n",
       " 'specific_reset',\n",
       " 'specific_step',\n",
       " 'static_geoms_contact_cost',\n",
       " 'toggle_observation_space',\n",
       " 'update_layout',\n",
       " 'update_world',\n",
       " 'vases',\n",
       " 'viewer',\n",
       " 'vision_env_conf',\n",
       " 'world',\n",
       " 'world_info']"
      ]
     },
     "execution_count": 130,
     "metadata": {},
     "output_type": "execute_result"
    }
   ],
   "source": [
    "dir(env.task)"
   ]
  },
  {
   "cell_type": "code",
   "execution_count": 131,
   "metadata": {},
   "outputs": [
    {
     "data": {
      "text/plain": [
       "['__call__',\n",
       " '__class__',\n",
       " '__delattr__',\n",
       " '__dir__',\n",
       " '__doc__',\n",
       " '__eq__',\n",
       " '__format__',\n",
       " '__func__',\n",
       " '__ge__',\n",
       " '__get__',\n",
       " '__getattribute__',\n",
       " '__gt__',\n",
       " '__hash__',\n",
       " '__init__',\n",
       " '__init_subclass__',\n",
       " '__le__',\n",
       " '__lt__',\n",
       " '__ne__',\n",
       " '__new__',\n",
       " '__reduce__',\n",
       " '__reduce_ex__',\n",
       " '__repr__',\n",
       " '__self__',\n",
       " '__setattr__',\n",
       " '__sizeof__',\n",
       " '__str__',\n",
       " '__subclasshook__']"
      ]
     },
     "execution_count": 131,
     "metadata": {},
     "output_type": "execute_result"
    }
   ],
   "source": [
    "dir(env.task.calculate_reward)"
   ]
  },
  {
   "cell_type": "code",
   "execution_count": 132,
   "metadata": {},
   "outputs": [
    {
     "name": "stdout",
     "output_type": "stream",
     "text": [
      "Truncated in iter 500\n"
     ]
    },
    {
     "ename": "AssertionError",
     "evalue": "Environment must be reset before stepping.",
     "output_type": "error",
     "traceback": [
      "\u001b[0;31m---------------------------------------------------------------------------\u001b[0m",
      "\u001b[0;31mAssertionError\u001b[0m                            Traceback (most recent call last)",
      "Cell \u001b[0;32mIn[132], line 6\u001b[0m\n\u001b[1;32m      4\u001b[0m     \u001b[38;5;28mprint\u001b[39m(\u001b[38;5;124m\"\u001b[39m\u001b[38;5;124mHapi hapi hapi\u001b[39m\u001b[38;5;124m\"\u001b[39m)\n\u001b[1;32m      5\u001b[0m act \u001b[38;5;241m=\u001b[39m env\u001b[38;5;241m.\u001b[39maction_space\u001b[38;5;241m.\u001b[39msample()\n\u001b[0;32m----> 6\u001b[0m \u001b[43menv\u001b[49m\u001b[38;5;241;43m.\u001b[39;49m\u001b[43mstep\u001b[49m\u001b[43m(\u001b[49m\u001b[43mact\u001b[49m\u001b[43m)\u001b[49m\n\u001b[1;32m      7\u001b[0m ns, _, _, terminated, truncated, _ \u001b[38;5;241m=\u001b[39m env\u001b[38;5;241m.\u001b[39mstep(act)\n\u001b[1;32m      8\u001b[0m \u001b[38;5;28;01mif\u001b[39;00m terminated:\n",
      "File \u001b[0;32m~/safety-gymnasium/safety_gymnasium/wrappers/time_limit.py:47\u001b[0m, in \u001b[0;36mSafeTimeLimit.step\u001b[0;34m(self, action)\u001b[0m\n\u001b[1;32m     36\u001b[0m \u001b[38;5;28;01mdef\u001b[39;00m\u001b[38;5;250m \u001b[39m\u001b[38;5;21mstep\u001b[39m(\u001b[38;5;28mself\u001b[39m, action):\n\u001b[1;32m     37\u001b[0m \u001b[38;5;250m    \u001b[39m\u001b[38;5;124;03m\"\"\"Steps through the environment and if the number of steps elapsed exceeds ``max_episode_steps`` then truncate.\u001b[39;00m\n\u001b[1;32m     38\u001b[0m \n\u001b[1;32m     39\u001b[0m \u001b[38;5;124;03m    Args:\u001b[39;00m\n\u001b[0;32m   (...)\u001b[0m\n\u001b[1;32m     45\u001b[0m \n\u001b[1;32m     46\u001b[0m \u001b[38;5;124;03m    \"\"\"\u001b[39;00m\n\u001b[0;32m---> 47\u001b[0m     observation, reward, cost, terminated, truncated, info \u001b[38;5;241m=\u001b[39m \u001b[38;5;28;43mself\u001b[39;49m\u001b[38;5;241;43m.\u001b[39;49m\u001b[43menv\u001b[49m\u001b[38;5;241;43m.\u001b[39;49m\u001b[43mstep\u001b[49m\u001b[43m(\u001b[49m\u001b[43maction\u001b[49m\u001b[43m)\u001b[49m\n\u001b[1;32m     48\u001b[0m     \u001b[38;5;28mself\u001b[39m\u001b[38;5;241m.\u001b[39m_elapsed_steps \u001b[38;5;241m+\u001b[39m\u001b[38;5;241m=\u001b[39m \u001b[38;5;241m1\u001b[39m\n\u001b[1;32m     50\u001b[0m     \u001b[38;5;28;01mif\u001b[39;00m \u001b[38;5;28mself\u001b[39m\u001b[38;5;241m.\u001b[39m_elapsed_steps \u001b[38;5;241m>\u001b[39m\u001b[38;5;241m=\u001b[39m \u001b[38;5;28mself\u001b[39m\u001b[38;5;241m.\u001b[39m_max_episode_steps:\n",
      "File \u001b[0;32m~/miniconda3/envs/rl_env/lib/python3.9/site-packages/gymnasium/wrappers/order_enforcing.py:56\u001b[0m, in \u001b[0;36mOrderEnforcing.step\u001b[0;34m(self, action)\u001b[0m\n\u001b[1;32m     54\u001b[0m \u001b[38;5;28;01mif\u001b[39;00m \u001b[38;5;129;01mnot\u001b[39;00m \u001b[38;5;28mself\u001b[39m\u001b[38;5;241m.\u001b[39m_has_reset:\n\u001b[1;32m     55\u001b[0m     \u001b[38;5;28;01mraise\u001b[39;00m ResetNeeded(\u001b[38;5;124m\"\u001b[39m\u001b[38;5;124mCannot call env.step() before calling env.reset()\u001b[39m\u001b[38;5;124m\"\u001b[39m)\n\u001b[0;32m---> 56\u001b[0m \u001b[38;5;28;01mreturn\u001b[39;00m \u001b[38;5;28;43mself\u001b[39;49m\u001b[38;5;241;43m.\u001b[39;49m\u001b[43menv\u001b[49m\u001b[38;5;241;43m.\u001b[39;49m\u001b[43mstep\u001b[49m\u001b[43m(\u001b[49m\u001b[43maction\u001b[49m\u001b[43m)\u001b[49m\n",
      "File \u001b[0;32m~/safety-gymnasium/safety_gymnasium/wrappers/env_checker.py:36\u001b[0m, in \u001b[0;36mSafePassiveEnvChecker.step\u001b[0;34m(self, action)\u001b[0m\n\u001b[1;32m     33\u001b[0m     \u001b[38;5;28mself\u001b[39m\u001b[38;5;241m.\u001b[39mchecked_step \u001b[38;5;241m=\u001b[39m \u001b[38;5;28;01mTrue\u001b[39;00m\n\u001b[1;32m     34\u001b[0m     \u001b[38;5;28;01mreturn\u001b[39;00m env_step_passive_checker(\u001b[38;5;28mself\u001b[39m\u001b[38;5;241m.\u001b[39menv, action)\n\u001b[0;32m---> 36\u001b[0m \u001b[38;5;28;01mreturn\u001b[39;00m \u001b[38;5;28;43mself\u001b[39;49m\u001b[38;5;241;43m.\u001b[39;49m\u001b[43menv\u001b[49m\u001b[38;5;241;43m.\u001b[39;49m\u001b[43mstep\u001b[49m\u001b[43m(\u001b[49m\u001b[43maction\u001b[49m\u001b[43m)\u001b[49m\n",
      "File \u001b[0;32m~/safety-gymnasium/safety_gymnasium/builder.py:195\u001b[0m, in \u001b[0;36mBuilder.step\u001b[0;34m(self, action)\u001b[0m\n\u001b[1;32m    193\u001b[0m \u001b[38;5;28;01mdef\u001b[39;00m\u001b[38;5;250m \u001b[39m\u001b[38;5;21mstep\u001b[39m(\u001b[38;5;28mself\u001b[39m, action: np\u001b[38;5;241m.\u001b[39mndarray) \u001b[38;5;241m-\u001b[39m\u001b[38;5;241m>\u001b[39m \u001b[38;5;28mtuple\u001b[39m[np\u001b[38;5;241m.\u001b[39mndarray, \u001b[38;5;28mfloat\u001b[39m, \u001b[38;5;28mfloat\u001b[39m, \u001b[38;5;28mbool\u001b[39m, \u001b[38;5;28mbool\u001b[39m, \u001b[38;5;28mdict\u001b[39m]:\n\u001b[1;32m    194\u001b[0m \u001b[38;5;250m    \u001b[39m\u001b[38;5;124;03m\"\"\"Take a step and return observation, reward, cost, terminated, truncated, info.\"\"\"\u001b[39;00m\n\u001b[0;32m--> 195\u001b[0m     \u001b[38;5;28;01massert\u001b[39;00m \u001b[38;5;129;01mnot\u001b[39;00m \u001b[38;5;28mself\u001b[39m\u001b[38;5;241m.\u001b[39mdone, \u001b[38;5;124m'\u001b[39m\u001b[38;5;124mEnvironment must be reset before stepping.\u001b[39m\u001b[38;5;124m'\u001b[39m\n\u001b[1;32m    196\u001b[0m     action \u001b[38;5;241m=\u001b[39m np\u001b[38;5;241m.\u001b[39marray(action, copy\u001b[38;5;241m=\u001b[39m\u001b[38;5;28;01mFalse\u001b[39;00m)  \u001b[38;5;66;03m# cast to ndarray\u001b[39;00m\n\u001b[1;32m    197\u001b[0m     \u001b[38;5;28;01mif\u001b[39;00m action\u001b[38;5;241m.\u001b[39mshape \u001b[38;5;241m!=\u001b[39m \u001b[38;5;28mself\u001b[39m\u001b[38;5;241m.\u001b[39maction_space\u001b[38;5;241m.\u001b[39mshape:  \u001b[38;5;66;03m# check action dimension\u001b[39;00m\n",
      "\u001b[0;31mAssertionError\u001b[0m: Environment must be reset before stepping."
     ]
    }
   ],
   "source": [
    "s, _ = env.reset()\n",
    "for i in range(1000):\n",
    "    if i > 500:\n",
    "        print(\"Hapi hapi hapi\")\n",
    "    act = env.action_space.sample()\n",
    "    env.step(act)\n",
    "    ns, _, _, terminated, truncated, _ = env.step(act)\n",
    "    if terminated:\n",
    "        print (f\"Terminated in iter {i + 1}\")\n",
    "        if s == ns:\n",
    "            print(\"States are the same bruh\")\n",
    "    if truncated:\n",
    "        print (f\"Truncated in iter {i + 1}\")\n",
    "    s = ns"
   ]
  },
  {
   "cell_type": "code",
   "execution_count": 81,
   "metadata": {},
   "outputs": [
    {
     "data": {
      "text/plain": [
       "array([0.        , 0.        , 9.81      , 0.        , 0.        ,\n",
       "       0.        , 0.        , 0.        , 0.        , 0.49973329,\n",
       "       0.01632916, 0.        , 0.        , 0.        , 0.        ,\n",
       "       0.        , 0.        , 0.        , 0.        , 0.        ,\n",
       "       0.        , 0.        , 0.20557594, 0.53956877, 0.33399283,\n",
       "       0.        , 0.        , 0.        , 0.63889349, 0.71901521,\n",
       "       0.10300368, 0.46701257, 0.39196807, 0.43011249, 0.47528243,\n",
       "       0.56379898, 0.08851655, 0.18709485, 0.50941531, 0.32232046,\n",
       "       0.01725441, 0.27526152, 0.76228501, 0.69628043, 0.20391412,\n",
       "       0.63579955, 0.6087739 , 0.09102056, 0.50004599, 0.56711921,\n",
       "       0.20920539, 0.34230943, 0.79591073, 0.4536013 , 0.72291357,\n",
       "       0.65376539, 0.        , 0.21404971, 0.55550223, 0.53404657])"
      ]
     },
     "execution_count": 81,
     "metadata": {},
     "output_type": "execute_result"
    }
   ],
   "source": [
    "s"
   ]
  },
  {
   "cell_type": "code",
   "execution_count": 82,
   "metadata": {},
   "outputs": [
    {
     "data": {
      "text/plain": [
       "array([ 2.68898589,  2.28094486,  9.81      ,  0.11105991,  0.01579968,\n",
       "        0.        , -0.        ,  0.        , -0.79487563,  0.49911525,\n",
       "        0.02973161,  0.        ,  0.        ,  0.        ,  0.        ,\n",
       "        0.        ,  0.        ,  0.        ,  0.        ,  0.        ,\n",
       "        0.        ,  0.        ,  0.17087594,  0.53929468,  0.36841874,\n",
       "        0.        ,  0.        ,  0.        ,  0.58915459,  0.71979689,\n",
       "        0.1306423 ,  0.46721905,  0.42580416,  0.42977952,  0.434887  ,\n",
       "        0.56310377,  0.12821677,  0.15370026,  0.5088759 ,  0.35517565,\n",
       "        0.        ,  0.27479303,  0.76293766,  0.74515793,  0.22223876,\n",
       "        0.61809754,  0.63647606,  0.05480677,  0.49994576,  0.56684986,\n",
       "        0.25036811,  0.28784383,  0.79510634,  0.50726251,  0.72244043,\n",
       "        0.69838603,  0.        ,  0.18836053,  0.54110128,  0.55616385])"
      ]
     },
     "execution_count": 82,
     "metadata": {},
     "output_type": "execute_result"
    }
   ],
   "source": [
    "ns"
   ]
  },
  {
   "cell_type": "code",
   "execution_count": null,
   "metadata": {},
   "outputs": [],
   "source": [
    "for _ in range(100):\n",
    "    act = env.action_space.sample()\n",
    "    new_state, reward, cost, terminated, truncated, info = env.step(act)"
   ]
  },
  {
   "cell_type": "code",
   "execution_count": 23,
   "metadata": {},
   "outputs": [
    {
     "data": {
      "text/plain": [
       "-0.0033912437081586866"
      ]
     },
     "execution_count": 23,
     "metadata": {},
     "output_type": "execute_result"
    }
   ],
   "source": [
    "reward"
   ]
  },
  {
   "cell_type": "code",
   "execution_count": 29,
   "metadata": {},
   "outputs": [
    {
     "data": {
      "text/plain": [
       "array([ 3.33099610e+00,  6.60883549e+00,  1.44367428e+01,  1.84440792e-02,\n",
       "       -7.61994594e-02,  1.01142211e-02,  1.01282470e-01,  6.29291039e-01,\n",
       "       -6.88697815e-01, -1.43894203e-01, -4.78830075e-01,  4.02707896e-03,\n",
       "        8.05895484e-01, -1.63789522e+00,  6.36175930e-01,  7.51492993e-01,\n",
       "       -5.50383262e-01,  3.63780903e-01,  4.90767097e-01,  8.34865644e-01,\n",
       "        2.49293026e-01, -4.40914887e-01, -8.81026442e-03,  8.97505678e-01,\n",
       "        1.43707622e-01,  2.02642017e-01,  5.89343947e-02,  0.00000000e+00,\n",
       "        0.00000000e+00,  0.00000000e+00,  0.00000000e+00,  0.00000000e+00,\n",
       "        0.00000000e+00,  0.00000000e+00,  0.00000000e+00,  0.00000000e+00,\n",
       "        0.00000000e+00,  0.00000000e+00,  0.00000000e+00,  0.00000000e+00,\n",
       "        5.64273398e-01,  5.26614584e-01,  3.98543005e-01,  4.18327333e-01,\n",
       "        1.52471030e-01,  0.00000000e+00,  0.00000000e+00,  0.00000000e+00,\n",
       "        0.00000000e+00,  5.75992975e-01,  7.74824509e-01,  1.98831534e-01,\n",
       "        5.49742919e-01,  6.54068925e-01,  1.04326005e-01,  3.54114809e-01,\n",
       "        0.00000000e+00,  0.00000000e+00,  0.00000000e+00,  0.00000000e+00,\n",
       "        0.00000000e+00,  0.00000000e+00,  0.00000000e+00,  0.00000000e+00,\n",
       "        0.00000000e+00,  0.00000000e+00,  0.00000000e+00,  0.00000000e+00,\n",
       "        0.00000000e+00,  1.33079766e-01,  7.21707031e-01,  5.88627265e-01])"
      ]
     },
     "execution_count": 29,
     "metadata": {},
     "output_type": "execute_result"
    }
   ],
   "source": [
    "new_state"
   ]
  },
  {
   "cell_type": "code",
   "execution_count": 2,
   "metadata": {},
   "outputs": [],
   "source": [
    "import torch\n",
    "if torch.cuda.is_available():\n",
    "    dev = \"cuda:0\"\n",
    "else:\n",
    "    dev = \"cpu\""
   ]
  },
  {
   "cell_type": "code",
   "execution_count": 3,
   "metadata": {},
   "outputs": [
    {
     "data": {
      "text/plain": [
       "'cuda:0'"
      ]
     },
     "execution_count": 3,
     "metadata": {},
     "output_type": "execute_result"
    }
   ],
   "source": [
    "dev"
   ]
  },
  {
   "cell_type": "code",
   "execution_count": null,
   "metadata": {},
   "outputs": [],
   "source": []
  }
 ],
 "metadata": {
  "kernelspec": {
   "display_name": "rl_env",
   "language": "python",
   "name": "python3"
  },
  "language_info": {
   "codemirror_mode": {
    "name": "ipython",
    "version": 3
   },
   "file_extension": ".py",
   "mimetype": "text/x-python",
   "name": "python",
   "nbconvert_exporter": "python",
   "pygments_lexer": "ipython3",
   "version": "3.9.21"
  }
 },
 "nbformat": 4,
 "nbformat_minor": 2
}
